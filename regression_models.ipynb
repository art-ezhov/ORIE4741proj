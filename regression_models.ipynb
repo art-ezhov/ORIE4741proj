{
 "cells": [
  {
   "cell_type": "code",
   "execution_count": 1,
   "metadata": {},
   "outputs": [],
   "source": [
    "import numpy as np\n",
    "import pandas as pd\n",
    "\n",
    "import statsmodels.api as sm\n",
    "\n",
    "import seaborn as sns\n",
    "import matplotlib.pyplot as plt\n",
    "%matplotlib inline\n",
    "plt.rcParams[\"figure.figsize\"] = (10, 6)\n",
    "\n",
    "import random as rand\n",
    "\n",
    "import re\n",
    "from matplotlib import colors\n",
    "\n",
    "# to show all columns\n",
    "pd.set_option('display.max_columns', 40)"
   ]
  },
  {
   "cell_type": "code",
   "execution_count": 2,
   "metadata": {},
   "outputs": [
    {
     "name": "stdout",
     "output_type": "stream",
     "text": [
      "The number of rows in the data is 200000, and the number of columns in the data is 30 \n"
     ]
    }
   ],
   "source": [
    "df = pd.read_csv(\"carmax_data.csv\")\n",
    "\n",
    "print(\"The number of rows in the data is {}, and the number of columns in the data is {} \".\n",
    "     format(df.shape[0], df.shape[1]))\n",
    "\n",
    "# make dtypes of some variables 'category'\n",
    "\n",
    "categoric_columns = ['make', 'model', 'trim_descrip', 'body', 'color', \n",
    "                     'make_appraisal', 'model_appraisal', 'trim_descrip_appraisal', \n",
    "                     'body_appraisal', 'color_appraisal']\n",
    "\n",
    "for column in categoric_columns:\n",
    "    df[column] = df[column].astype('category')\n",
    "    \n",
    "def convert_5k_increments(initial_str):\n",
    "    m = re.findall(r'\\d+', initial_str)\n",
    "    return (int(m[0]) + 5) * 1000 if len(m) == 1 else (int(m[0]) + int(m[1])) / 2 * 1000\n",
    "    \n",
    "def convert_10k_increments(initial_str):\n",
    "    m = re.findall(r'\\d+', initial_str)\n",
    "    return (int(m[0]) + 10) * 1000 if len(m) == 1 else (int(m[0]) + int(m[1])) / 2 * 1000\n",
    "\n",
    "df['price'] = df['price'].apply(convert_5k_increments)\n",
    "df['mileage'] = df['mileage'].apply(convert_5k_increments)\n",
    "df['engine'] = df['engine'].str.extract('([\\d].[\\d]+)').astype(\"float\")\n",
    "\n",
    "df['appraisal_offer'] = df['appraisal_offer'].apply(convert_5k_increments)\n",
    "df['mileage_appraisal'] = df['mileage_appraisal'].apply(convert_10k_increments)\n",
    "df['engine_appraisal'] = df['engine_appraisal'].str.extract('([\\d].[\\d]+)').astype(\"float\")\n",
    "\n",
    "df['offer_40kplus'] = (df['appraisal_offer'] > 40000).astype(int)\n",
    "\n",
    "df = df.drop(columns = ['model', 'model_appraisal', 'color', 'color_appraisal'])\n",
    "\n",
    "# fill null values with median (numeric) and frequent values (categoric)\n",
    "numeric_data = [c for c in df.select_dtypes(['int', 'float'])]\n",
    "categoric_data = [c for c in df.select_dtypes(exclude = ['int', 'float'])]\n",
    "\n",
    "for col in numeric_data:\n",
    "    df[col].fillna(df[col].median(), inplace = True)\n",
    "    \n",
    "for col in categoric_data:\n",
    "    df[col].fillna(df[col].value_counts().index[0], inplace = True)\n",
    "    \n",
    "appraisal_columns = ['price', 'appraisal_offer', 'online_appraisal_flag', 'model_year_appraisal', \n",
    "                     'mileage_appraisal', 'make_appraisal','trim_descrip_appraisal', 'body_appraisal',\n",
    "                     'engine_appraisal', 'cylinders_appraisal', 'mpg_city_appraisal','mpg_highway_appraisal', \n",
    "                     'horsepower_appraisal','fuel_capacity_appraisal', 'market', 'offer_40kplus']\n",
    "\n",
    "appraisal = df[appraisal_columns]"
   ]
  },
  {
   "cell_type": "code",
   "execution_count": 3,
   "metadata": {},
   "outputs": [
    {
     "name": "stderr",
     "output_type": "stream",
     "text": [
      "/opt/anaconda3/lib/python3.8/site-packages/dask/dataframe/utils.py:366: FutureWarning: pandas.Int64Index is deprecated and will be removed from pandas in a future version. Use pandas.Index with the appropriate dtype instead.\n",
      "  _numeric_index_types = (pd.Int64Index, pd.Float64Index, pd.UInt64Index)\n",
      "/opt/anaconda3/lib/python3.8/site-packages/dask/dataframe/utils.py:366: FutureWarning: pandas.Float64Index is deprecated and will be removed from pandas in a future version. Use pandas.Index with the appropriate dtype instead.\n",
      "  _numeric_index_types = (pd.Int64Index, pd.Float64Index, pd.UInt64Index)\n",
      "/opt/anaconda3/lib/python3.8/site-packages/dask/dataframe/utils.py:366: FutureWarning: pandas.UInt64Index is deprecated and will be removed from pandas in a future version. Use pandas.Index with the appropriate dtype instead.\n",
      "  _numeric_index_types = (pd.Int64Index, pd.Float64Index, pd.UInt64Index)\n"
     ]
    }
   ],
   "source": [
    "from sklearn.preprocessing import LabelEncoder\n",
    "from sklearn.preprocessing import MinMaxScaler, RobustScaler, StandardScaler\n",
    "from sklearn.model_selection import train_test_split, GridSearchCV, cross_val_score, KFold\n",
    "from sklearn.metrics import mean_squared_error, mean_squared_log_error, r2_score\n",
    "from sklearn import model_selection\n",
    "from sklearn.pipeline import make_pipeline\n",
    "\n",
    "from xgboost import XGBRegressor\n",
    "from lightgbm import LGBMRegressor\n",
    "from sklearn.svm import SVR\n",
    "from sklearn.ensemble import RandomForestRegressor, GradientBoostingRegressor\n",
    "from sklearn.linear_model import Ridge, RidgeCV, Lasso, LassoCV"
   ]
  },
  {
   "cell_type": "code",
   "execution_count": 4,
   "metadata": {},
   "outputs": [],
   "source": [
    "y = appraisal['price']\n",
    "x = appraisal.drop('price', axis = 1)\n",
    "x = pd.get_dummies(x, drop_first = True)"
   ]
  },
  {
   "cell_type": "code",
   "execution_count": 5,
   "metadata": {},
   "outputs": [],
   "source": [
    "rob_scaler = RobustScaler()\n",
    "rob_scaler.fit(x)\n",
    "x = rob_scaler.transform(x)"
   ]
  },
  {
   "cell_type": "code",
   "execution_count": 5,
   "metadata": {},
   "outputs": [],
   "source": [
    "y = np.log(y)"
   ]
  },
  {
   "cell_type": "markdown",
   "metadata": {},
   "source": [
    "# Linear Models"
   ]
  },
  {
   "cell_type": "code",
   "execution_count": 7,
   "metadata": {},
   "outputs": [],
   "source": [
    "from sklearn.linear_model import LinearRegression\n",
    "scores = []\n",
    "linear_model = LinearRegression()\n",
    "cv = KFold(n_splits = 5, random_state = 0, shuffle = True)\n",
    "for train_idx, test_idx in cv.split(x):\n",
    "    X_train, X_test, y_train, y_test = x[train_idx], x[test_idx], y[train_idx], y[test_idx]\n",
    "    linear_model.fit(X_train, y_train)\n",
    "    linear_pred = linear_model.predict(X_test)\n",
    "    linear_RMSE = np.sqrt(mean_squared_error(linear_pred, y_test))\n",
    "    scores.append(linear_RMSE)\n",
    "linear_score = np.mean(scores)"
   ]
  },
  {
   "cell_type": "code",
   "execution_count": 8,
   "metadata": {},
   "outputs": [
    {
     "data": {
      "text/plain": [
       "0.355980689894602"
      ]
     },
     "execution_count": 8,
     "metadata": {},
     "output_type": "execute_result"
    }
   ],
   "source": [
    "linear_score"
   ]
  },
  {
   "cell_type": "code",
   "execution_count": 14,
   "metadata": {},
   "outputs": [],
   "source": [
    "from sklearn.linear_model import Lasso\n",
    "lasso_scores = np.zeros(50)\n",
    "lasso_train_errors = np.zeros(50)\n",
    "lamda = list(np.linspace(1e-10, 1e-2, 50))\n",
    "for i in range(50):\n",
    "    scores = []\n",
    "    train_scores = []\n",
    "    lasso_model = Lasso(alpha = lamda[i])\n",
    "    cv = KFold(n_splits = 5, random_state = 0, shuffle = True)\n",
    "    for train_idx, test_idx in cv.split(x):\n",
    "        X_train, X_test, y_train, y_test = x[train_idx], x[test_idx], y[train_idx], y[test_idx]\n",
    "        lasso_model.fit(X_train, y_train)\n",
    "        lasso_pred = lasso_model.predict(X_test)\n",
    "        lasso_RMSE = np.sqrt(mean_squared_error(lasso_pred, y_test))\n",
    "        scores.append(lasso_RMSE)\n",
    "        \n",
    "        lasso_pred_train = lasso_model.predict(X_train)\n",
    "        lasso_RMSE_train = np.sqrt(mean_squared_error(lasso_pred_train, y_train))\n",
    "        train_scores.append(lasso_RMSE_train)\n",
    "        \n",
    "    lasso_score = np.mean(scores)\n",
    "    lasso_scores[i] = lasso_score\n",
    "    \n",
    "    lasso_train_score = np.mean(train_scores)\n",
    "    lasso_train_errors[i] = lasso_train_score"
   ]
  },
  {
   "cell_type": "code",
   "execution_count": 15,
   "metadata": {},
   "outputs": [
    {
     "data": {
      "text/plain": [
       "Text(0, 0.5, 'RMSE')"
      ]
     },
     "execution_count": 15,
     "metadata": {},
     "output_type": "execute_result"
    },
    {
     "data": {
      "image/png": "[encoded data removed]",
      "text/plain": [
       "<Figure size 720x432 with 1 Axes>"
      ]
     },
     "metadata": {
      "needs_background": "light"
     },
     "output_type": "display_data"
    }
   ],
   "source": [
    "plt.plot(lamda, lasso_scores)\n",
    "plt.xlabel(\"lambda\")\n",
    "plt.ylabel(\"RMSE\")"
   ]
  },
  {
   "cell_type": "code",
   "execution_count": 16,
   "metadata": {},
   "outputs": [
    {
     "data": {
      "text/plain": [
       "0.35598068985245945"
      ]
     },
     "execution_count": 16,
     "metadata": {},
     "output_type": "execute_result"
    }
   ],
   "source": [
    "lasso_scores[0]"
   ]
  },
  {
   "cell_type": "code",
   "execution_count": 17,
   "metadata": {},
   "outputs": [
    {
     "data": {
      "text/plain": [
       "0.3558546106938476"
      ]
     },
     "execution_count": 17,
     "metadata": {},
     "output_type": "execute_result"
    }
   ],
   "source": [
    "lasso_train_errors[0]"
   ]
  },
  {
   "cell_type": "code",
   "execution_count": 18,
   "metadata": {},
   "outputs": [],
   "source": [
    "from sklearn.linear_model import Ridge\n",
    "\n",
    "ridge_scores = np.zeros(100)\n",
    "ridge_train_scores = np.zeros(100)\n",
    "lamda = list(np.linspace(0.001,20,100))\n",
    "for i in range(len(ridge_scores)):\n",
    "    scores = []\n",
    "    train_scores = []\n",
    "    ridge_model = Ridge(alpha = lamda[i])\n",
    "    cv = KFold(n_splits = 5, random_state = 0, shuffle=True)\n",
    "    for train_index, test_index in cv.split(x):\n",
    "        X_train, X_test, y_train, y_test = x[train_index], x[test_index], y[train_index], y[test_index]\n",
    "        ridge_model.fit(X_train, y_train)\n",
    "        ridge_pred = ridge_model.predict(X_test)\n",
    "        ridge_RMSE = np.sqrt(mean_squared_error(ridge_pred,y_test))\n",
    "        scores.append(ridge_RMSE)\n",
    "        \n",
    "        ridge_pred_train = ridge_model.predict(X_train)\n",
    "        ridge_RMSE_train = np.sqrt(mean_squared_error(ridge_pred_train,y_train))\n",
    "        train_scores.append(ridge_RMSE_train)\n",
    "        \n",
    "    ridge_score = np.mean(scores)\n",
    "    ridge_scores[i] = ridge_score\n",
    "    \n",
    "    ridge_train_score = np.mean(train_scores)\n",
    "    ridge_train_scores[i] = ridge_train_score"
   ]
  },
  {
   "cell_type": "code",
   "execution_count": 19,
   "metadata": {},
   "outputs": [
    {
     "data": {
      "image/png": "[encoded data removed]",
      "text/plain": [
       "<Figure size 720x432 with 1 Axes>"
      ]
     },
     "metadata": {
      "needs_background": "light"
     },
     "output_type": "display_data"
    }
   ],
   "source": [
    "plt.plot(lamda, ridge_scores, color = 'red')\n",
    "plt.xlabel(\"lambda\")\n",
    "plt.ylabel(\"RMSE\")\n",
    "plt.grid(color = 'grey')"
   ]
  },
  {
   "cell_type": "code",
   "execution_count": 21,
   "metadata": {},
   "outputs": [
    {
     "data": {
      "text/plain": [
       "0.3559796736089588"
      ]
     },
     "execution_count": 21,
     "metadata": {},
     "output_type": "execute_result"
    }
   ],
   "source": [
    "np.min(ridge_scores)"
   ]
  },
  {
   "cell_type": "code",
   "execution_count": 24,
   "metadata": {},
   "outputs": [
    {
     "data": {
      "text/plain": [
       "0.3559796736089588"
      ]
     },
     "execution_count": 24,
     "metadata": {},
     "output_type": "execute_result"
    }
   ],
   "source": [
    "ridge_scores[47]"
   ]
  },
  {
   "cell_type": "code",
   "execution_count": 25,
   "metadata": {},
   "outputs": [
    {
     "data": {
      "text/plain": [
       "0.35585557996584627"
      ]
     },
     "execution_count": 25,
     "metadata": {},
     "output_type": "execute_result"
    }
   ],
   "source": [
    "ridge_train_scores[47]"
   ]
  },
  {
   "cell_type": "code",
   "execution_count": 22,
   "metadata": {},
   "outputs": [
    {
     "data": {
      "text/plain": [
       "47"
      ]
     },
     "execution_count": 22,
     "metadata": {},
     "output_type": "execute_result"
    }
   ],
   "source": [
    "np.argmin(ridge_scores)"
   ]
  },
  {
   "cell_type": "code",
   "execution_count": 23,
   "metadata": {},
   "outputs": [
    {
     "data": {
      "text/plain": [
       "9.495474747474747"
      ]
     },
     "execution_count": 23,
     "metadata": {},
     "output_type": "execute_result"
    }
   ],
   "source": [
    "np.linspace(0.001,20,100)[47]"
   ]
  },
  {
   "cell_type": "code",
   "execution_count": 20,
   "metadata": {},
   "outputs": [],
   "source": [
    "X_train, X_test, y_train, y_test = train_test_split(x, y)"
   ]
  },
  {
   "cell_type": "code",
   "execution_count": 8,
   "metadata": {},
   "outputs": [
    {
     "name": "stdout",
     "output_type": "stream",
     "text": [
      "done  10\n",
      "done  20\n",
      "done  50\n",
      "done  100\n",
      "done  150\n",
      "done  200\n",
      "done  300\n",
      "done  400\n",
      "done  500\n"
     ]
    }
   ],
   "source": [
    "from sklearn.ensemble import RandomForestRegressor\n",
    "\n",
    "rr_scores = np.zeros(9)\n",
    "rr_train_scores = np.zeros(9)\n",
    "N = [10, 20, 50, 100, 150, 200, 300, 400, 500]\n",
    "for i in range(len(rr_scores)):\n",
    "    scores = []\n",
    "    train_scores = []\n",
    "    rr = RandomForestRegressor(n_estimators = N[i])\n",
    "    cv = KFold(n_splits = 5, random_state = 0, shuffle=True)\n",
    "    X_train, X_test, y_train, y_test = train_test_split(x, y)\n",
    "    rr.fit(X_train, y_train)\n",
    "    rr_pred = rr.predict(X_test)\n",
    "    rr_RMSE = np.sqrt(mean_squared_error(rr_pred,y_test))\n",
    "        \n",
    "    rr_pred_train = rr.predict(X_train)\n",
    "    rr_RMSE_train = np.sqrt(mean_squared_error(rr_pred_train,y_train))\n",
    "\n",
    "        \n",
    "    rr_scores[i] = rr_RMSE\n",
    "    \n",
    "    rr_train_scores[i] = rr_RMSE_train\n",
    "    \n",
    "    print(\"done \", N[i])"
   ]
  },
  {
   "cell_type": "code",
   "execution_count": 9,
   "metadata": {},
   "outputs": [
    {
     "data": {
      "image/png": "[encoded data removed]",
      "text/plain": [
       "<Figure size 720x432 with 1 Axes>"
      ]
     },
     "metadata": {
      "needs_background": "light"
     },
     "output_type": "display_data"
    }
   ],
   "source": [
    "plt.plot(N, rr_scores, color = 'green')\n",
    "plt.xlabel(\"n_estimators\")\n",
    "plt.ylabel(\"RMSE\")\n",
    "plt.grid(color = 'grey')"
   ]
  },
  {
   "cell_type": "code",
   "execution_count": 10,
   "metadata": {},
   "outputs": [],
   "source": [
    "def display_scores(scores):\n",
    "    print(\"Scores: \", scores)\n",
    "    print(\"Mean: \", scores.mean())\n",
    "    print(\"Standard Deviation: \", scores.std())"
   ]
  },
  {
   "cell_type": "code",
   "execution_count": 11,
   "metadata": {},
   "outputs": [
    {
     "name": "stdout",
     "output_type": "stream",
     "text": [
      "Random Forest Regressor Scores\n",
      "Scores:  [0.37684696 0.37452247 0.3724563  0.37503902 0.37474849]\n",
      "Mean:  0.3747226496853347\n",
      "Standard Deviation:  0.0013992743713812615\n",
      "\n",
      "\n"
     ]
    }
   ],
   "source": [
    "rr_final = RandomForestRegressor(n_estimators = 300)\n",
    "#Training the Random Forest Regressor\n",
    "print(\"Random Forest Regressor Scores\")\n",
    "scores = cross_val_score(rr_final, X_train, y_train, scoring='neg_mean_squared_error', cv=5)\n",
    "random_forest_scores = np.sqrt(-scores)\n",
    "display_scores(random_forest_scores)\n",
    "print(\"\\n\")"
   ]
  },
  {
   "cell_type": "code",
   "execution_count": 15,
   "metadata": {},
   "outputs": [
    {
     "name": "stdout",
     "output_type": "stream",
     "text": [
      "done  0.01\n",
      "done  0.020000000000000004\n",
      "done  0.030000000000000006\n",
      "done  0.04000000000000001\n",
      "done  0.05000000000000001\n",
      "done  0.06000000000000001\n",
      "done  0.07\n",
      "done  0.08\n",
      "done  0.09000000000000001\n",
      "done  0.1\n"
     ]
    }
   ],
   "source": [
    "from sklearn.ensemble import GradientBoostingRegressor\n",
    "\n",
    "gbr_scores = np.zeros(10)\n",
    "lamda = list(np.linspace(0.01,0.1,10))\n",
    "for i in range(len(gbr_scores)):\n",
    "    scores = []\n",
    "    gbr = GradientBoostingRegressor(learning_rate = lamda[i])\n",
    "    X_train, X_test, y_train, y_test = train_test_split(x, y)\n",
    "    gbr.fit(X_train, y_train)\n",
    "    gbr_pred = gbr.predict(X_test)\n",
    "    gbr_RMSE = np.sqrt(mean_squared_error(gbr_pred,y_test))\n",
    "        \n",
    "    gbr_scores[i] = gbr_RMSE\n",
    "    \n",
    "    print(\"done \", lamda[i])"
   ]
  },
  {
   "cell_type": "code",
   "execution_count": 16,
   "metadata": {},
   "outputs": [
    {
     "data": {
      "image/png": "[encoded data removed]",
      "text/plain": [
       "<Figure size 720x432 with 1 Axes>"
      ]
     },
     "metadata": {
      "needs_background": "light"
     },
     "output_type": "display_data"
    }
   ],
   "source": [
    "plt.plot(lamda, gbr_scores, color = 'green')\n",
    "plt.xlabel(\"lambda\")\n",
    "plt.ylabel(\"RMSE\")\n",
    "plt.grid(color = 'grey')"
   ]
  },
  {
   "cell_type": "code",
   "execution_count": 6,
   "metadata": {},
   "outputs": [
    {
     "name": "stdout",
     "output_type": "stream",
     "text": [
      "Gradient Boosting Regressor Scores\n",
      "Scores:  [0.3544877  0.3512792  0.35417519 0.35127824 0.35692407]\n",
      "Mean:  0.3536288812262788\n",
      "Standard Deviation:  0.002141997554572081\n",
      "\n",
      "\n"
     ]
    }
   ],
   "source": [
    "from sklearn.ensemble import RandomForestRegressor, GradientBoostingRegressor\n",
    "from sklearn.model_selection import cross_val_score\n",
    "\n",
    "X_train, X_test, y_train, y_test = train_test_split(x, y)\n",
    "\n",
    "#Create function to displaying scores\n",
    "def display_scores(scores):\n",
    "    print(\"Scores: \", scores)\n",
    "    print(\"Mean: \", scores.mean())\n",
    "    print(\"Standard Deviation: \", scores.std())\n",
    "    \n",
    "gbr = GradientBoostingRegressor(learning_rate = 0.07)\n",
    "\n",
    "#Training the Gradient Boosting Regressor\n",
    "print('Gradient Boosting Regressor Scores')\n",
    "scores = cross_val_score(gbr, X_train, y_train, scoring='neg_mean_squared_error', cv=5)\n",
    "gradient_boosting_regressor = np.sqrt(-scores)\n",
    "display_scores(gradient_boosting_regressor)\n",
    "print(\"\\n\")\n"
   ]
  },
  {
   "cell_type": "code",
   "execution_count": 17,
   "metadata": {},
   "outputs": [
    {
     "data": {
      "text/plain": [
       "0.35121086797444745"
      ]
     },
     "execution_count": 17,
     "metadata": {},
     "output_type": "execute_result"
    }
   ],
   "source": [
    "np.min(gbr_scores)"
   ]
  },
  {
   "cell_type": "code",
   "execution_count": 19,
   "metadata": {},
   "outputs": [
    {
     "data": {
      "text/plain": [
       "0.07"
      ]
     },
     "execution_count": 19,
     "metadata": {},
     "output_type": "execute_result"
    }
   ],
   "source": [
    "lamda[np.argmin(gbr_scores)]"
   ]
  },
  {
   "cell_type": "code",
   "execution_count": 26,
   "metadata": {},
   "outputs": [
    {
     "name": "stdout",
     "output_type": "stream",
     "text": [
      "done  0.01\n",
      "done  0.020000000000000004\n",
      "done  0.030000000000000006\n",
      "done  0.04000000000000001\n",
      "done  0.05000000000000001\n",
      "done  0.06000000000000001\n",
      "done  0.07\n",
      "done  0.08\n",
      "done  0.09000000000000001\n",
      "done  0.1\n"
     ]
    }
   ],
   "source": [
    "import xgboost\n",
    "\n",
    "xgb_scores = np.zeros(10)\n",
    "lamda = list(np.linspace(0.01,0.1,10))\n",
    "\n",
    "for i in range(len(xgb_scores)):\n",
    "    scores = []\n",
    "    xgb = xgboost.XGBRegressor()\n",
    "    X_train, X_test, y_train, y_test = train_test_split(x, y)\n",
    "    xgb.fit(X_train, y_train)\n",
    "    xgb_pred = xgb.predict(X_test)\n",
    "    xgb_RMSE = np.sqrt(mean_squared_error(xgb_pred,y_test))\n",
    "        \n",
    "    xgb_scores[i] = xgb_RMSE\n",
    "    \n",
    "    print(\"done \", lamda[i])"
   ]
  },
  {
   "cell_type": "code",
   "execution_count": 27,
   "metadata": {},
   "outputs": [
    {
     "data": {
      "image/png": "[encoded data removed]",
      "text/plain": [
       "<Figure size 720x432 with 1 Axes>"
      ]
     },
     "metadata": {
      "needs_background": "light"
     },
     "output_type": "display_data"
    }
   ],
   "source": [
    "plt.plot(lamda, xgb_scores, color = 'green')\n",
    "plt.xlabel(\"lambda\")\n",
    "plt.ylabel(\"RMSE\")\n",
    "plt.grid(color = 'grey')"
   ]
  },
  {
   "cell_type": "code",
   "execution_count": 23,
   "metadata": {},
   "outputs": [
    {
     "data": {
      "image/png": "[encoded data removed]",
      "text/plain": [
       "<Figure size 720x432 with 1 Axes>"
      ]
     },
     "metadata": {
      "needs_background": "light"
     },
     "output_type": "display_data"
    }
   ],
   "source": [
    "plt.plot(lamda, xgb_scores, color = 'green')\n",
    "plt.xlabel(\"lambda\")\n",
    "plt.ylabel(\"RMSE\")\n",
    "plt.grid(color = 'grey')"
   ]
  },
  {
   "cell_type": "code",
   "execution_count": 23,
   "metadata": {},
   "outputs": [
    {
     "name": "stdout",
     "output_type": "stream",
     "text": [
      "Random Forest Regressor Scores\n",
      "Scores:  [0.37484806 0.37793917 0.37615326 0.37385396 0.37146645]\n",
      "Mean:  0.3748521817927354\n",
      "Standard Deviation:  0.0021763247379533385\n",
      "\n",
      "\n",
      "Gradient Boosting Regressor Scores\n",
      "Scores:  [0.3529241  0.35670062 0.35435441 0.35194911 0.35007312]\n",
      "Mean:  0.35320027348948074\n",
      "Standard Deviation:  0.0022363003452952925\n",
      "\n",
      "\n",
      "Linear Regression Scores\n",
      "Scores:  [0.35588714 0.35996944 0.3578873  0.35484851 0.3530104 ]\n",
      "Mean:  0.35632055861943013\n",
      "Standard Deviation:  0.002411676042371416\n",
      "\n",
      "\n",
      "xGB Scores\n",
      "Scores:  [0.35172773 0.35657399 0.35270606 0.35086259 0.34860821]\n",
      "Mean:  0.3520957149907879\n",
      "Standard Deviation:  0.0026171021652924694\n"
     ]
    }
   ],
   "source": [
    "from sklearn.linear_model import LinearRegression\n",
    "from sklearn.ensemble import RandomForestRegressor, GradientBoostingRegressor\n",
    "import xgboost as xgb\n",
    "from sklearn.model_selection import cross_val_score\n",
    "\n",
    "lr = LinearRegression()\n",
    "rr = RandomForestRegressor()\n",
    "gbr = GradientBoostingRegressor()\n",
    "xgb = xgb.XGBRegressor()\n",
    "\n",
    "#Create function to displaying scores\n",
    "def display_scores(scores):\n",
    "    print(\"Scores: \", scores)\n",
    "    print(\"Mean: \", scores.mean())\n",
    "    print(\"Standard Deviation: \", scores.std())\n",
    "    \n",
    "#Training the Random Forest Regressor\n",
    "print(\"Random Forest Regressor Scores\")\n",
    "scores = cross_val_score(rr, X_train, y_train, scoring='neg_mean_squared_error', cv=5)\n",
    "random_forest_scores = np.sqrt(-scores)\n",
    "display_scores(random_forest_scores)\n",
    "print(\"\\n\")\n",
    "\n",
    "#Training the Gradient Boosting Regressor\n",
    "print('Gradient Boosting Regressor Scores')\n",
    "scores = cross_val_score(gbr, X_train, y_train, scoring='neg_mean_squared_error', cv=5)\n",
    "gradient_boosting_regressor = np.sqrt(-scores)\n",
    "display_scores(gradient_boosting_regressor)\n",
    "print(\"\\n\")\n",
    "\n",
    "#Training the Linear Regression\n",
    "print('Linear Regression Scores')\n",
    "scores = cross_val_score(lr, X_train, y_train, scoring='neg_mean_squared_error', cv=5)\n",
    "linear_regression = np.sqrt(-scores)\n",
    "display_scores(linear_regression)\n",
    "print(\"\\n\")\n",
    "\n",
    "#Training the Extreme Gradient Boosting\n",
    "print(\"xGB Scores\")\n",
    "scores = cross_val_score(xgb, X_train, y_train, scoring='neg_mean_squared_error', cv=5)\n",
    "xgb_regressor = np.sqrt(-scores)\n",
    "display_scores(xgb_regressor)"
   ]
  },
  {
   "cell_type": "markdown",
   "metadata": {},
   "source": [
    "Permutation Importances"
   ]
  },
  {
   "cell_type": "code",
   "execution_count": null,
   "metadata": {},
   "outputs": [],
   "source": []
  }
 ],
 "metadata": {
  "kernelspec": {
   "display_name": "Python 3",
   "language": "python",
   "name": "python3"
  },
  "language_info": {
   "codemirror_mode": {
    "name": "ipython",
    "version": 3
   },
   "file_extension": ".py",
   "mimetype": "text/x-python",
   "name": "python",
   "nbconvert_exporter": "python",
   "pygments_lexer": "ipython3",
   "version": "3.8.3"
  }
 },
 "nbformat": 4,
 "nbformat_minor": 4
}
